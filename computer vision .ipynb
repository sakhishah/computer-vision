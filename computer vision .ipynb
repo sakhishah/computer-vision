{
 "cells": [
  {
   "cell_type": "markdown",
   "metadata": {},
   "source": [
    "# What is computer vision? \n",
    "\n",
    "It is a field that deals with how computers can see and understand images (since computers do not see images the same way humans do)\n"
   ]
  },
  {
   "cell_type": "markdown",
   "metadata": {},
   "source": [
    "# Preprocessing:\n",
    "\n",
    "image manipulations that computer scientists do, so that a computer can better understand an image they are given.\n",
    "\n",
    "\n",
    "\n",
    "### What are some examples of when this is applicable? \n",
    "\n"
   ]
  },
  {
   "cell_type": "markdown",
   "metadata": {},
   "source": [
    "first step in preprocessing is to display the image you wnat to manipulate! But before you can do that, you need to import various computer vision python libraries."
   ]
  },
  {
   "cell_type": "markdown",
   "metadata": {},
   "source": [
    "###### as a side note, for any cells with code, # means that whatever is written after is a comment so when you run your code, it will not be affected by the comments \n",
    "\n"
   ]
  },
  {
   "cell_type": "code",
   "execution_count": null,
   "metadata": {},
   "outputs": [],
   "source": [
    "# press the run button so all these libraries will be imported into your code and will allow you to access \n",
    "# different functions already built into python libraries by other people\n",
    "\n",
    "import numpy as np\n",
    "import cv2 \n",
    "import matplotlib.image as mpimg\n",
    "import matplotlib.pyplot as plt\n",
    "\n",
    "%matplotlib inline"
   ]
  },
  {
   "cell_type": "markdown",
   "metadata": {},
   "source": [
    "now time to find an image! go online and save any image you want ( ex: a flower, a dog, anything your imagination can think of that is appropriate :) ) to a folder on your H drive where you will easily be able to access it"
   ]
  },
  {
   "cell_type": "code",
   "execution_count": null,
   "metadata": {},
   "outputs": [],
   "source": [
    "#img = plt.imread('C:/Users/sakhi/Documents/ehths.jpg')\n",
    "\n",
    "img = plt.imread('') #enter your image location in the ('') use my example above as a guide\n",
    "print(img)\n",
    "\n",
    "# the two lines above first find where the image is located on your computer and then saves it to the variable\n",
    "# img so anytime we want to manipulate the image, we will be using the name img. then, it prints the image.\n",
    "\n",
    "# when you ran this block of code did you notice anything weird? the image that it printed was in fact not an image \n",
    "# but a series of matrices of images. this is what happens when a computer prints an image. it simply sees\n",
    "# it as a series of numbers (which represent pixel points)"
   ]
  },
  {
   "cell_type": "code",
   "execution_count": null,
   "metadata": {},
   "outputs": [],
   "source": [
    "# now to actually print the image as an image, run the following code\n",
    "\n",
    "plt.imshow(img)\n",
    "plt.show()"
   ]
  },
  {
   "cell_type": "markdown",
   "metadata": {},
   "source": [
    "##### what are some ways you think we can manipulate your image?\n"
   ]
  },
  {
   "cell_type": "code",
   "execution_count": null,
   "metadata": {},
   "outputs": [],
   "source": [
    "# Grey Scale! \n",
    "\n",
    "grey_img = cv2.cvtColor( img, cv2.COLOR_RGB2GRAY)\n",
    "plt.imshow(grey_img, cmap='gray')\n",
    "plt.show()"
   ]
  },
  {
   "cell_type": "markdown",
   "metadata": {},
   "source": [
    "We just changed your image to gray scale! What exactly does this mean? And what are the applications of this? "
   ]
  },
  {
   "cell_type": "code",
   "execution_count": null,
   "metadata": {},
   "outputs": [],
   "source": [
    "# add three different color filters"
   ]
  },
  {
   "cell_type": "code",
   "execution_count": 1,
   "metadata": {},
   "outputs": [],
   "source": [
    "# thresholding - purple and yellow\n",
    "# can further manipulate by changing the threshold value\n",
    "# applications - medicine \n",
    "# more thresholding colors "
   ]
  },
  {
   "cell_type": "code",
   "execution_count": 2,
   "metadata": {},
   "outputs": [],
   "source": [
    "#blur and then blur w filter\n",
    "# multiple manipulations to a single image "
   ]
  },
  {
   "cell_type": "code",
   "execution_count": 3,
   "metadata": {},
   "outputs": [],
   "source": [
    "# 2 diff. ways to do blurs and then diff. btwn blurs\n",
    "# https://en.wikipedia.org/wiki/Kernel_(image_processing)\n",
    "# day 3 notebook"
   ]
  },
  {
   "cell_type": "code",
   "execution_count": 4,
   "metadata": {},
   "outputs": [],
   "source": [
    "# blurring application: de noising "
   ]
  },
  {
   "cell_type": "code",
   "execution_count": null,
   "metadata": {},
   "outputs": [],
   "source": [
    "# day 5 notebook"
   ]
  }
 ],
 "metadata": {
  "kernelspec": {
   "display_name": "Python 3",
   "language": "python",
   "name": "python3"
  },
  "language_info": {
   "codemirror_mode": {
    "name": "ipython",
    "version": 3
   },
   "file_extension": ".py",
   "mimetype": "text/x-python",
   "name": "python",
   "nbconvert_exporter": "python",
   "pygments_lexer": "ipython3",
   "version": "3.6.5"
  }
 },
 "nbformat": 4,
 "nbformat_minor": 2
}
